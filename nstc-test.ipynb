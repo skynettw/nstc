{
 "cells": [
  {
   "cell_type": "code",
   "execution_count": 1,
   "id": "2d207312",
   "metadata": {},
   "outputs": [
    {
     "name": "stderr",
     "output_type": "stream",
     "text": [
      "C:\\Users\\User\\anaconda3\\envs\\ptest\\lib\\site-packages\\urllib3\\connectionpool.py:1045: InsecureRequestWarning: Unverified HTTPS request is being made to host 'www.nstc.gov.tw'. Adding certificate verification is strongly advised. See: https://urllib3.readthedocs.io/en/1.26.x/advanced-usage.html#ssl-warnings\n",
      "  warnings.warn(\n"
     ]
    }
   ],
   "source": [
    "import requests, time\n",
    "from bs4 import BeautifulSoup\n",
    "target = \"https://www.nstc.gov.tw/folksonomy/list/ba3d22f3-96fd-4adf-a078-91a05b8f0166?pageNum={}&view_mode=listView&l=ch\"\n",
    "sel = \"#templateJ > div.news_list.marb_30 > a\"\n",
    "page = 1\n",
    "url = target.format(page)\n",
    "html = requests.get(url, verify=False).text\n",
    "soup = BeautifulSoup(html, \"lxml\")"
   ]
  },
  {
   "cell_type": "code",
   "execution_count": 5,
   "id": "1497464f",
   "metadata": {},
   "outputs": [
    {
     "name": "stdout",
     "output_type": "stream",
     "text": [
      "2016-08-24\n",
      "本會網站「求才訊息」免責聲明\n",
      "https://www.nstc.gov.tw/folksonomy/detail/b4a0bc0a-cdb8-4264-9ee6-cdfe68508d93?l=ch\n",
      "本會網站「求才訊息」免責聲明\n",
      "2022-11-18\n",
      "南臺科技大學視覺傳達設計系暨碩士班 誠徵專任/專案之助理教授(含)以上師資2位\n",
      "https://www.nstc.gov.tw/folksonomy/detail/a92bdb90-87ed-49da-bba7-67e357d903fc?l=ch\n",
      "南臺科技大學視覺傳達設計系暨碩士班 誠徵專任/專案之助理教授(含)以上師資2位\n",
      "2022-11-18\n",
      "國立臺灣藝術大學圖文傳播藝術學系(所)誠徵研究計畫專任助理\n",
      "https://www.nstc.gov.tw/folksonomy/detail/408ff2e9-5474-4e87-8693-f479f29e79cb?l=ch\n",
      "國立臺灣藝術大學圖文傳播藝術學系(所)誠徵研究計畫專任助理\n",
      "2022-11-18\n",
      "長庚大學 生物醫學工程研究所 賴瑞陽老師 誠徵博士後研究員一名\n",
      "https://www.nstc.gov.tw/folksonomy/detail/51654ed8-fba9-40b4-8a29-abc1b4875801?l=ch\n",
      "長庚大學 生物醫學工程研究所 賴瑞陽老師 誠徵博士後研究員一名\n",
      "2022-11-18\n",
      "中山醫學大學附設醫院-人工智慧中心誠徵衛福部碩士級或學士級專任(約聘)研究助理一名(醫放系、所為主)\n",
      "https://www.nstc.gov.tw/folksonomy/detail/a3c17123-2742-41a0-b5e2-8ffd00a6a1d1?l=ch\n",
      "中山醫學大學附設醫院-人工智慧中心誠徵衛福部碩士級或學士級專任(約聘)研究助理一名(醫放系、所為主)\n",
      "2022-11-18\n",
      "國立陽明交通大學神經科學研究所誠徵博士後研究員\n",
      "https://www.nstc.gov.tw/folksonomy/detail/e25b1b03-9b3f-4a1e-ad27-08e280cc2269?l=ch\n",
      "國立陽明交通大學神經科學研究所誠徵博士後研究員\n",
      "2022-11-18\n",
      "中山醫學大學附設醫院-人工智慧中心誠徵衛福部碩士級專任(約聘)研究助理一名(公衛、生統、流病為主)\n",
      "https://www.nstc.gov.tw/folksonomy/detail/884abd63-0084-411f-ab0b-d6e9100063cb?l=ch\n",
      "中山醫學大學附設醫院-人工智慧中心誠徵衛福部碩士級專任(約聘)研究助理一名(公衛、生統、流病為主)\n",
      "2022-11-17\n",
      "國立臺東大學美術產業學系徵聘專任助理教授徵才公告\n",
      "https://www.nstc.gov.tw/folksonomy/detail/f4ab7ef1-07b4-446f-ae89-e558a809d59d?l=ch\n",
      "國立臺東大學美術產業學系徵聘專任助理教授徵才公告\n",
      "2022-11-17\n",
      "陽明交通大學 北榮醫研部 誠徵碩博士研究生（一至兩名）\n",
      "https://www.nstc.gov.tw/folksonomy/detail/f4ffafb9-a89d-4322-bb3c-f427cb7ed13b?l=ch\n",
      "陽明交通大學 北榮醫研部 誠徵碩博士研究生（一至兩名）\n",
      "2022-11-17\n",
      "國立台灣大學醫學院神經科誠徵專任教師\n",
      "https://www.nstc.gov.tw/folksonomy/detail/84b17638-5a9b-4293-882c-85d163b0fa38?l=ch\n",
      "國立台灣大學醫學院神經科誠徵專任教師\n",
      "2022-11-17\n",
      "林口長庚醫院基因醫學核心實驗室招募碩士級研究助理一名\n",
      "https://www.nstc.gov.tw/folksonomy/detail/8acf9b9e-c763-4fd3-8b46-d09c40d8c3da?l=ch\n",
      "林口長庚醫院基因醫學核心實驗室招募碩士級研究助理一名\n",
      "2022-11-17\n",
      "【徵才】中興大學循環經濟研究學院誠徵專任助理3名\n",
      "https://www.nstc.gov.twhttps://ace.nchu.edu.tw/event_detail/67\n",
      "【徵才】中興大學循環經濟研究學院誠徵專任助理3名\n",
      "2022-11-17\n",
      "銘傳大學都市規劃與防災學系誠徵兼任講師(含)以上教師3名\n",
      "https://www.nstc.gov.tw/folksonomy/detail/3f11849a-be69-4209-9188-5f9d37eccf45?l=ch\n",
      "銘傳大學都市規劃與防災學系誠徵兼任講師(含)以上教師3名\n",
      "2022-11-17\n",
      "北榮醫研部誠徵碩士級研究助理（一名）\n",
      "https://www.nstc.gov.tw/folksonomy/detail/401fdbef-c524-4085-968b-7c15628d14fb?l=ch\n",
      "北榮醫研部誠徵碩士級研究助理（一名）\n",
      "2022-11-17\n",
      "A Contract Faculty Position Opening in General Education Center at National Kaohsiung University of Hospitality and Tourism in Taiwan\n",
      "https://www.nstc.gov.tw/folksonomy/detail/da30b250-d2a9-4571-8d01-326c224b92ec?l=ch\n",
      "A Contract Faculty Position Opening in General Education Center at National Kaohsiung University of Hospitality and Tourism in Taiwan\n",
      "2022-11-17\n",
      "臺北醫學大學人文暨社會科學院醫療暨生物科技法律研究所誠徵專任助理教授(含)以上1名(公告至112.01.19截止)\n",
      "https://www.nstc.gov.tw/folksonomy/detail/bb29cc8c-367b-4bcb-9810-3291498bc395?l=ch\n",
      "臺北醫學大學人文暨社會科學院醫療暨生物科技法律研究所誠徵專任助理教授(含)以上1名(公告至112.01.19截止)\n",
      "2022-11-17\n",
      "國立屏東科技大學111學年度第1學期徵聘「研究人員」公告(林下經濟與生態旅遊領域/運動健康促進科學領域)\n",
      "https://www.nstc.gov.tw/folksonomy/detail/aaafd0aa-9ebc-4581-82ad-9c9444f60f49?l=ch\n",
      "國立屏東科技大學111學年度第1學期徵聘「研究人員」公告(林下經濟與生態旅遊領域/運動健康促進科學領域)\n",
      "2022-11-17\n",
      "國立高雄餐旅大學 語文中心外語組誠徵約用代理人\n",
      "https://www.nstc.gov.tw/folksonomy/detail/da0b27dc-1ce4-4206-8478-d62d992cc31d?l=ch\n",
      "國立高雄餐旅大學 語文中心外語組誠徵約用代理人\n"
     ]
    }
   ],
   "source": [
    "items = soup.select(sel)\n",
    "for item in items:\n",
    "    print(item.find(class_=\"date\").text)\n",
    "    print(item.h3.text.strip())\n",
    "    print(\"https://www.nstc.gov.tw\" + item[\"href\"])\n",
    "    print(item.h3.text.strip())\n"
   ]
  }
 ],
 "metadata": {
  "kernelspec": {
   "display_name": "Python 3 (ipykernel)",
   "language": "python",
   "name": "python3"
  },
  "language_info": {
   "codemirror_mode": {
    "name": "ipython",
    "version": 3
   },
   "file_extension": ".py",
   "mimetype": "text/x-python",
   "name": "python",
   "nbconvert_exporter": "python",
   "pygments_lexer": "ipython3",
   "version": "3.10.8"
  }
 },
 "nbformat": 4,
 "nbformat_minor": 5
}
